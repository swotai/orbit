{
 "cells": [
  {
   "cell_type": "markdown",
   "id": "994f63e1",
   "metadata": {},
   "source": [
    "# A Demo on Backtesting M3 with Various Models"
   ]
  },
  {
   "cell_type": "markdown",
   "id": "be2cd336",
   "metadata": {},
   "source": [
    "This notebook aims to\n",
    "1. provide a simple demo how to backtest models with orbit provided functions.  \n",
    "2. add transperancy how our accuracy metrics are derived in https://arxiv.org/abs/2004.08492.\n",
    "\n",
    "Due to versioning and random seed, there could be subtle difference for the final numbers. This notebook should also be available in colab."
   ]
  },
  {
   "cell_type": "code",
   "execution_count": null,
   "id": "2166de6a",
   "metadata": {
    "ExecuteTime": {
     "end_time": "2021-07-13T22:37:42.983007Z",
     "start_time": "2021-07-13T22:37:08.360143Z"
    },
    "colab": {
     "base_uri": "https://localhost:8080/"
    },
    "id": "JkM4yXCFaee8",
    "outputId": "31a50da2-eb80-4769-a421-fe670956ae85"
   },
   "outputs": [],
   "source": [
    "!pip install orbit-ml==1.0.13\n",
    "!pip install fbprophet==0.7.1"
   ]
  },
  {
   "cell_type": "code",
   "execution_count": null,
   "id": "d8a85a5b",
   "metadata": {
    "ExecuteTime": {
     "end_time": "2021-09-03T00:44:11.247033Z",
     "start_time": "2021-09-03T00:44:11.239738Z"
    },
    "id": "environmental-dealing"
   },
   "outputs": [],
   "source": [
    "import numpy as np\n",
    "import tqdm\n",
    "import pandas as pd\n",
    "import statsmodels.api as sm\n",
    "import inspect\n",
    "import random\n",
    "from fbprophet import Prophet\n",
    "from statsmodels.tsa.statespace.sarimax import SARIMAX\n",
    "\n",
    "import orbit\n",
    "from orbit.models import DLT\n",
    "from orbit.utils.dataset import load_m3monthly\n",
    "from orbit.diagnostics.backtest import BackTester\n",
    "from orbit.diagnostics.metrics import smape"
   ]
  },
  {
   "cell_type": "code",
   "execution_count": null,
   "id": "be3b8390",
   "metadata": {
    "ExecuteTime": {
     "end_time": "2021-09-03T00:44:12.661903Z",
     "start_time": "2021-09-03T00:44:12.659176Z"
    },
    "id": "0_43vxJ3cG2J"
   },
   "outputs": [],
   "source": [
    "seed=2021\n",
    "n_sample=10\n",
    "random.seed(seed)"
   ]
  },
  {
   "cell_type": "markdown",
   "id": "e394eb60",
   "metadata": {},
   "source": [
    "We can load the m3 dataset from orbit repository.  For demo purpose, i set `n_sample` to be `10`. Feel free to adjust it or simply run the entire dataset."
   ]
  },
  {
   "cell_type": "code",
   "execution_count": null,
   "id": "3f9a81b7",
   "metadata": {
    "ExecuteTime": {
     "end_time": "2021-09-03T00:44:16.340126Z",
     "start_time": "2021-09-03T00:44:14.294332Z"
    },
    "colab": {
     "base_uri": "https://localhost:8080/"
    },
    "id": "adopted-panel",
    "outputId": "7a15482b-33ff-4b0d-9d81-ffa5f3ef2a6a"
   },
   "outputs": [],
   "source": [
    "data = load_m3monthly()\n",
    "unique_keys = data['key'].unique().tolist()\n",
    "if n_sample > 0:\n",
    "    sample_keys = random.sample(unique_keys, 10)\n",
    "    # just get the first 5 series for demo\n",
    "    data = data[data['key'].isin(sample_keys)].reset_index(drop=True)\n",
    "else:\n",
    "    sample_keys = unique_keys\n",
    "print(sample_keys)"
   ]
  },
  {
   "cell_type": "code",
   "execution_count": null,
   "id": "21b41737",
   "metadata": {
    "ExecuteTime": {
     "end_time": "2021-09-03T00:44:16.348761Z",
     "start_time": "2021-09-03T00:44:16.342154Z"
    },
    "colab": {
     "base_uri": "https://localhost:8080/"
    },
    "id": "processed-barbados",
    "outputId": "f76fbc7a-85b3-4f4a-fbcc-f8897929e4fc"
   },
   "outputs": [],
   "source": [
    "data.columns"
   ]
  },
  {
   "cell_type": "markdown",
   "id": "45dd86cb",
   "metadata": {},
   "source": [
    "We need to provide some meta data such as date column, response column etc."
   ]
  },
  {
   "cell_type": "code",
   "execution_count": null,
   "id": "8831518f",
   "metadata": {
    "ExecuteTime": {
     "end_time": "2021-09-03T00:44:16.925387Z",
     "start_time": "2021-09-03T00:44:16.920908Z"
    },
    "id": "fabulous-humor"
   },
   "outputs": [],
   "source": [
    "key_col='key'\n",
    "response_col='value'\n",
    "date_col='date'\n",
    "seasonality=12"
   ]
  },
  {
   "cell_type": "markdown",
   "id": "351f226e",
   "metadata": {},
   "source": [
    "We also provide some setting mimic M3 (see https://forecasters.org/resources/time-series-data/m3-competition/) criteria."
   ]
  },
  {
   "cell_type": "code",
   "execution_count": null,
   "id": "7dab9ec7",
   "metadata": {
    "ExecuteTime": {
     "end_time": "2021-09-03T00:44:17.473534Z",
     "start_time": "2021-09-03T00:44:17.470679Z"
    },
    "id": "right-naples"
   },
   "outputs": [],
   "source": [
    "backtest_args = {\n",
    "    'min_train_len': 1, # not useful; a placeholder\n",
    "    'incremental_len': 18,  # not useful; a placeholder\n",
    "    'forecast_len': 18,\n",
    "    'n_splits': 1,\n",
    "    'window_type': \"expanding\",\n",
    "}"
   ]
  },
  {
   "cell_type": "markdown",
   "id": "40f2411e",
   "metadata": {},
   "source": [
    "We are using `DLT` here.  To use a multiplicative form, we need a natural log transformation of response.  Hence, we need to a wrapper for `DLT`.  We also need to build wrapper for signature prupose for `prophet` and `sarima`.\n",
    "Note that prophet comes with its own multiplicative form."
   ]
  },
  {
   "cell_type": "code",
   "execution_count": null,
   "id": "ac574fc4",
   "metadata": {
    "ExecuteTime": {
     "end_time": "2021-09-03T00:44:45.403466Z",
     "start_time": "2021-09-03T00:44:45.398075Z"
    },
    "id": "incorporated-buddy"
   },
   "outputs": [],
   "source": [
    "class DLTMAPWrapper(object):\n",
    "    def __init__(self, response_col, date_col, **kwargs):\n",
    "        kw_params = locals()['kwargs']\n",
    "        for key, value in kw_params.items():\n",
    "            setattr(self, key, value)\n",
    "        self.response_col = response_col\n",
    "        self.date_col = date_col\n",
    "        self.model = DLT(\n",
    "            response_col=response_col,\n",
    "            date_col=date_col,\n",
    "            estimator='stan-map',\n",
    "            **kwargs)\n",
    "\n",
    "    def fit(self, df):\n",
    "        df = df.copy()\n",
    "        df[[self.response_col]] = df[[self.response_col]].apply(np.log1p)\n",
    "        self.model.fit(df)\n",
    "\n",
    "    def predict(self, df):\n",
    "        df = df.copy()\n",
    "        pred_df = self.model.predict(df)\n",
    "        pred_df['prediction'] = np.clip(np.expm1(pred_df['prediction']).values, 0, None)\n",
    "        return pred_df"
   ]
  },
  {
   "cell_type": "code",
   "execution_count": null,
   "id": "1d0ac828",
   "metadata": {
    "ExecuteTime": {
     "end_time": "2021-09-03T00:44:20.932012Z",
     "start_time": "2021-09-03T00:44:20.920257Z"
    },
    "id": "y3fP5z6ofG4C"
   },
   "outputs": [],
   "source": [
    "class SARIMAXWrapper(object):\n",
    "    def __init__(self, response_col, date_col, **kwargs):\n",
    "        kw_params = locals()['kwargs']\n",
    "        for key, value in kw_params.items():\n",
    "            setattr(self, key, value)\n",
    "        self.response_col = response_col\n",
    "        self.date_col = date_col\n",
    "        self.model = None\n",
    "        self.df = None\n",
    "\n",
    "    def fit(self, df):\n",
    "\n",
    "        df_copy = df.copy()\n",
    "        infer_freq = pd.infer_freq(df_copy[self.date_col])\n",
    "        df_copy = df_copy.set_index(self.date_col)\n",
    "        df_copy = df_copy.asfreq(infer_freq)\n",
    "        endog = df_copy[self.response_col]\n",
    "        sig = inspect.signature(SARIMAX)\n",
    "        all_params = dict()\n",
    "        for key in sig.parameters.keys():\n",
    "            if hasattr(self, key):\n",
    "                all_params[key] = getattr(self, key)\n",
    "        self.df = df_copy\n",
    "        self.model = SARIMAX(endog=endog, **all_params).fit(disp=False)\n",
    "\n",
    "    def predict(self, df, **kwargs):\n",
    "        df_copy = df.copy()\n",
    "        infer_freq = pd.infer_freq(df_copy[self.date_col])\n",
    "        df_copy = df_copy.set_index(self.date_col)\n",
    "        df_copy = df_copy.asfreq(infer_freq)\n",
    "\n",
    "        pred_array = np.array(self.model.predict(start=df_copy.index[0],\n",
    "                                                 end=df_copy.index[-1],\n",
    "                                                 **kwargs))\n",
    "\n",
    "        out = pd.DataFrame({\n",
    "            self.date_col: df[self.date_col],\n",
    "            'prediction': pred_array\n",
    "        })\n",
    "        return out"
   ]
  },
  {
   "cell_type": "code",
   "execution_count": null,
   "id": "7b03a8c3",
   "metadata": {
    "ExecuteTime": {
     "end_time": "2021-09-03T00:44:21.234126Z",
     "start_time": "2021-09-03T00:44:21.226394Z"
    },
    "id": "Ehq9Ve2L6k0o"
   },
   "outputs": [],
   "source": [
    "class ProphetWrapper(object):\n",
    "    def __init__(self, response_col, date_col, **kwargs):\n",
    "        kw_params = locals()['kwargs']\n",
    "        for key, value in kw_params.items():\n",
    "            setattr(self, key, value)\n",
    "        self.response_col = response_col\n",
    "        self.date_col = date_col\n",
    "        self.model = Prophet(**kwargs)\n",
    "\n",
    "    def fit(self, df):\n",
    "        sig = inspect.signature(Prophet)\n",
    "        all_params = dict()\n",
    "        for key in sig.parameters.keys():\n",
    "            if hasattr(self, key):\n",
    "                all_params[key] = getattr(self, key)\n",
    "        object_type = type(self.model)\n",
    "        self.model = object_type(**all_params)\n",
    "\n",
    "        train_df = df.copy()\n",
    "        train_df = train_df.rename(columns={self.date_col: \"ds\", self.response_col: \"y\"})\n",
    "        self.model.fit(train_df)\n",
    "\n",
    "    def predict(self, df):\n",
    "        df = df.copy()\n",
    "        df = df.rename(columns={self.date_col: \"ds\"})\n",
    "        pred_df = self.model.predict(df)\n",
    "        pred_df = pred_df.rename(columns={'yhat': 'prediction', 'ds': self.date_col})\n",
    "        pred_df = pred_df[[self.date_col, 'prediction']]\n",
    "        return pred_df"
   ]
  },
  {
   "cell_type": "markdown",
   "id": "d6bc1dfc",
   "metadata": {},
   "source": [
    "Declare model objects and run backtest. Score shows in the end."
   ]
  },
  {
   "cell_type": "code",
   "execution_count": null,
   "id": "db00bc70",
   "metadata": {
    "ExecuteTime": {
     "end_time": "2021-09-03T00:44:48.700884Z",
     "start_time": "2021-09-03T00:44:48.473609Z"
    },
    "id": "bound-occurrence"
   },
   "outputs": [],
   "source": [
    "dlt = DLTMAPWrapper(\n",
    "    response_col=response_col,\n",
    "    date_col=date_col,\n",
    "    seasonality=seasonality,\n",
    "    seed=seed,\n",
    ")\n",
    "\n",
    "sarima = SARIMAXWrapper(\n",
    "    response_col=response_col,\n",
    "    date_col=date_col,\n",
    "    seasonality=seasonality,\n",
    "    seed=seed,\n",
    ")\n",
    "\n",
    "prophet = ProphetWrapper(\n",
    "    response_col=response_col,\n",
    "    date_col=date_col,\n",
    ")"
   ]
  },
  {
   "cell_type": "code",
   "execution_count": null,
   "id": "13f984c2",
   "metadata": {
    "ExecuteTime": {
     "end_time": "2021-09-03T00:45:20.549713Z",
     "start_time": "2021-09-03T00:44:50.214556Z"
    },
    "colab": {
     "base_uri": "https://localhost:8080/"
    },
    "id": "extra-robertson",
    "outputId": "1b8a808c-aa64-46f1-ffb5-85709f5c9f5a"
   },
   "outputs": [],
   "source": [
    "all_scores = []\n",
    "\n",
    "for key in tqdm.tqdm(sample_keys):\n",
    "    # dlt\n",
    "    df = data[data[key_col] == key]\n",
    "    bt = BackTester(\n",
    "        model=dlt,\n",
    "        df=df,\n",
    "        **backtest_args,\n",
    "    )\n",
    "    bt.fit_predict()\n",
    "    scores_df = bt.score(metrics=[smape])\n",
    "    scores_df[key_col] = key\n",
    "    scores_df['model'] = 'dlt'\n",
    "    all_scores.append(scores_df)\n",
    "    # sarima\n",
    "    df = data[data[key_col] == key]\n",
    "    bt = BackTester(\n",
    "        model=sarima,\n",
    "        df=df,\n",
    "        **backtest_args,\n",
    "    )\n",
    "    bt.fit_predict()\n",
    "    scores_df = bt.score(metrics=[smape])\n",
    "    scores_df[key_col] = key\n",
    "    scores_df['model'] = 'sarima'\n",
    "    all_scores.append(scores_df)\n",
    "    # prophet\n",
    "    df = data[data[key_col] == key]\n",
    "    bt = BackTester(\n",
    "        model=prophet,\n",
    "        df=df,\n",
    "        **backtest_args,\n",
    "    )\n",
    "    bt.fit_predict()\n",
    "    scores_df = bt.score(metrics=[smape])\n",
    "    scores_df[key_col] = key\n",
    "    scores_df['model'] = 'prophet'\n",
    "    all_scores.append(scores_df)\n",
    "\n",
    "\n",
    "all_scores = pd.concat(all_scores, axis=0, ignore_index=True)"
   ]
  },
  {
   "cell_type": "code",
   "execution_count": null,
   "id": "1ac520a5",
   "metadata": {
    "ExecuteTime": {
     "end_time": "2021-09-03T00:45:52.749454Z",
     "start_time": "2021-09-03T00:45:52.735908Z"
    },
    "colab": {
     "base_uri": "https://localhost:8080/",
     "height": 142
    },
    "id": "bigger-insulation",
    "outputId": "56676af4-b62c-43b4-ca3d-508fae4a3550"
   },
   "outputs": [],
   "source": [
    "all_scores.groupby('model')['metric_values'].apply(np.mean).reset_index()"
   ]
  }
 ],
 "metadata": {
  "colab": {
   "collapsed_sections": [],
   "name": "orbit_m3_backtest.ipynb",
   "provenance": []
  },
  "kernelspec": {
   "display_name": "Python 3 (ipykernel)",
   "language": "python",
   "name": "python3"
  },
  "language_info": {
   "codemirror_mode": {
    "name": "ipython",
    "version": 3
   },
   "file_extension": ".py",
   "mimetype": "text/x-python",
   "name": "python",
   "nbconvert_exporter": "python",
   "pygments_lexer": "ipython3",
   "version": "3.11.0"
  },
  "toc": {
   "base_numbering": 1,
   "nav_menu": {},
   "number_sections": true,
   "sideBar": true,
   "skip_h1_title": false,
   "title_cell": "Table of Contents",
   "title_sidebar": "Contents",
   "toc_cell": false,
   "toc_position": {},
   "toc_section_display": true,
   "toc_window_display": false
  }
 },
 "nbformat": 4,
 "nbformat_minor": 5
}
