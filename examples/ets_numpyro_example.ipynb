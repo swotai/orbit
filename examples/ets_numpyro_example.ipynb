{
 "cells": [
  {
   "cell_type": "markdown",
   "metadata": {},
   "source": [
    "# ETS Example with Numpyro\n",
    "\n",
    "This is a working example to compare results on ETS model between estimator `Numpyro` and estimator `PyStan`."
   ]
  },
  {
   "cell_type": "code",
   "execution_count": 1,
   "metadata": {
    "ExecuteTime": {
     "end_time": "2021-07-13T22:35:29.534059Z",
     "start_time": "2021-07-13T22:35:26.280935Z"
    }
   },
   "outputs": [],
   "source": [
    "import pandas as pd\n",
    "import numpy as np\n",
    "import orbit\n",
    "import matplotlib.pyplot as plt\n",
    "\n",
    "from orbit.utils.dataset import load_iclaims\n",
    "from orbit.diagnostics.plot import plot_predicted_data, plot_predicted_components, params_comparison_boxplot\n",
    "from orbit.utils.plot import get_orbit_style\n",
    "plt.style.use(get_orbit_style())\n",
    "from orbit.models import ETS"
   ]
  },
  {
   "cell_type": "code",
   "execution_count": 2,
   "metadata": {
    "ExecuteTime": {
     "end_time": "2021-07-13T22:35:29.542920Z",
     "start_time": "2021-07-13T22:35:29.536694Z"
    }
   },
   "outputs": [
    {
     "data": {
      "text/plain": [
       "'1.1.3dev'"
      ]
     },
     "execution_count": 2,
     "metadata": {},
     "output_type": "execute_result"
    }
   ],
   "source": [
    "orbit.__version__"
   ]
  },
  {
   "cell_type": "code",
   "execution_count": 3,
   "metadata": {},
   "outputs": [
    {
     "name": "stdout",
     "output_type": "stream",
     "text": [
      "1.22.2\n"
     ]
    }
   ],
   "source": [
    "print(np.__version__)"
   ]
  },
  {
   "cell_type": "code",
   "execution_count": 4,
   "metadata": {
    "ExecuteTime": {
     "end_time": "2021-07-13T22:35:29.597204Z",
     "start_time": "2021-07-13T22:35:29.548718Z"
    }
   },
   "outputs": [],
   "source": [
    "%load_ext autoreload\n",
    "%autoreload 2"
   ]
  },
  {
   "cell_type": "markdown",
   "metadata": {},
   "source": [
    "## Data"
   ]
  },
  {
   "cell_type": "code",
   "execution_count": 5,
   "metadata": {
    "ExecuteTime": {
     "end_time": "2021-07-13T22:35:29.927306Z",
     "start_time": "2021-07-13T22:35:29.600727Z"
    }
   },
   "outputs": [
    {
     "data": {
      "text/plain": [
       "week              datetime64[ns]\n",
       "claims                   float64\n",
       "trend.unemploy           float64\n",
       "trend.filling            float64\n",
       "trend.job                float64\n",
       "sp500                    float64\n",
       "vix                      float64\n",
       "dtype: object"
      ]
     },
     "execution_count": 5,
     "metadata": {},
     "output_type": "execute_result"
    }
   ],
   "source": [
    "# can also consider transform=False\n",
    "raw_df = load_iclaims(transform=True)\n",
    "raw_df.dtypes"
   ]
  },
  {
   "cell_type": "code",
   "execution_count": 6,
   "metadata": {
    "ExecuteTime": {
     "end_time": "2021-07-13T22:35:29.978276Z",
     "start_time": "2021-07-13T22:35:29.929541Z"
    }
   },
   "outputs": [
    {
     "data": {
      "text/html": [
       "<div>\n",
       "<style scoped>\n",
       "    .dataframe tbody tr th:only-of-type {\n",
       "        vertical-align: middle;\n",
       "    }\n",
       "\n",
       "    .dataframe tbody tr th {\n",
       "        vertical-align: top;\n",
       "    }\n",
       "\n",
       "    .dataframe thead th {\n",
       "        text-align: right;\n",
       "    }\n",
       "</style>\n",
       "<table border=\"1\" class=\"dataframe\">\n",
       "  <thead>\n",
       "    <tr style=\"text-align: right;\">\n",
       "      <th></th>\n",
       "      <th>week</th>\n",
       "      <th>claims</th>\n",
       "      <th>trend.unemploy</th>\n",
       "      <th>trend.filling</th>\n",
       "      <th>trend.job</th>\n",
       "      <th>sp500</th>\n",
       "      <th>vix</th>\n",
       "    </tr>\n",
       "  </thead>\n",
       "  <tbody>\n",
       "    <tr>\n",
       "      <th>0</th>\n",
       "      <td>2010-01-03</td>\n",
       "      <td>13.386595</td>\n",
       "      <td>0.219882</td>\n",
       "      <td>-0.318452</td>\n",
       "      <td>0.117500</td>\n",
       "      <td>-0.417633</td>\n",
       "      <td>0.122654</td>\n",
       "    </tr>\n",
       "    <tr>\n",
       "      <th>1</th>\n",
       "      <td>2010-01-10</td>\n",
       "      <td>13.624218</td>\n",
       "      <td>0.219882</td>\n",
       "      <td>-0.194838</td>\n",
       "      <td>0.168794</td>\n",
       "      <td>-0.425480</td>\n",
       "      <td>0.110445</td>\n",
       "    </tr>\n",
       "    <tr>\n",
       "      <th>2</th>\n",
       "      <td>2010-01-17</td>\n",
       "      <td>13.398741</td>\n",
       "      <td>0.236143</td>\n",
       "      <td>-0.292477</td>\n",
       "      <td>0.117500</td>\n",
       "      <td>-0.465229</td>\n",
       "      <td>0.532339</td>\n",
       "    </tr>\n",
       "    <tr>\n",
       "      <th>3</th>\n",
       "      <td>2010-01-24</td>\n",
       "      <td>13.137549</td>\n",
       "      <td>0.203353</td>\n",
       "      <td>-0.194838</td>\n",
       "      <td>0.106918</td>\n",
       "      <td>-0.481751</td>\n",
       "      <td>0.428645</td>\n",
       "    </tr>\n",
       "    <tr>\n",
       "      <th>4</th>\n",
       "      <td>2010-01-31</td>\n",
       "      <td>13.196760</td>\n",
       "      <td>0.134360</td>\n",
       "      <td>-0.242466</td>\n",
       "      <td>0.074483</td>\n",
       "      <td>-0.488929</td>\n",
       "      <td>0.487404</td>\n",
       "    </tr>\n",
       "  </tbody>\n",
       "</table>\n",
       "</div>"
      ],
      "text/plain": [
       "        week     claims  trend.unemploy  trend.filling  trend.job     sp500  \\\n",
       "0 2010-01-03  13.386595        0.219882      -0.318452   0.117500 -0.417633   \n",
       "1 2010-01-10  13.624218        0.219882      -0.194838   0.168794 -0.425480   \n",
       "2 2010-01-17  13.398741        0.236143      -0.292477   0.117500 -0.465229   \n",
       "3 2010-01-24  13.137549        0.203353      -0.194838   0.106918 -0.481751   \n",
       "4 2010-01-31  13.196760        0.134360      -0.242466   0.074483 -0.488929   \n",
       "\n",
       "        vix  \n",
       "0  0.122654  \n",
       "1  0.110445  \n",
       "2  0.532339  \n",
       "3  0.428645  \n",
       "4  0.487404  "
      ]
     },
     "execution_count": 6,
     "metadata": {},
     "output_type": "execute_result"
    }
   ],
   "source": [
    "df = raw_df.copy()\n",
    "df.head()"
   ]
  },
  {
   "cell_type": "code",
   "execution_count": 7,
   "metadata": {
    "ExecuteTime": {
     "end_time": "2021-07-13T22:35:30.095362Z",
     "start_time": "2021-07-13T22:35:30.049407Z"
    }
   },
   "outputs": [],
   "source": [
    "test_size=52\n",
    "train_df=df[:-test_size]\n",
    "test_df=df[-test_size:]"
   ]
  },
  {
   "cell_type": "markdown",
   "metadata": {},
   "source": [
    "## Comparing MCMC Results"
   ]
  },
  {
   "cell_type": "markdown",
   "metadata": {},
   "source": [
    "If users see a warning messages about `tree_flatten(xs)`, feel free to ignore them."
   ]
  },
  {
   "cell_type": "code",
   "execution_count": 8,
   "metadata": {
    "ExecuteTime": {
     "end_time": "2021-07-13T22:35:30.144133Z",
     "start_time": "2021-07-13T22:35:30.100924Z"
    }
   },
   "outputs": [
    {
     "ename": "IllegalArgument",
     "evalue": "Invalid estimator. Must be one of ['stan-map', 'stan-mcmc']",
     "output_type": "error",
     "traceback": [
      "\u001b[0;31m---------------------------------------------------------------------------\u001b[0m",
      "\u001b[0;31mIllegalArgument\u001b[0m                           Traceback (most recent call last)",
      "Input \u001b[0;32mIn [8]\u001b[0m, in \u001b[0;36m<cell line: 1>\u001b[0;34m()\u001b[0m\n\u001b[0;32m----> 1\u001b[0m ets \u001b[38;5;241m=\u001b[39m \u001b[43mETS\u001b[49m\u001b[43m(\u001b[49m\u001b[43mresponse_col\u001b[49m\u001b[38;5;241;43m=\u001b[39;49m\u001b[38;5;124;43m'\u001b[39;49m\u001b[38;5;124;43mclaims\u001b[39;49m\u001b[38;5;124;43m'\u001b[39;49m\u001b[43m,\u001b[49m\n\u001b[1;32m      2\u001b[0m \u001b[43m          \u001b[49m\u001b[43mdate_col\u001b[49m\u001b[38;5;241;43m=\u001b[39;49m\u001b[38;5;124;43m'\u001b[39;49m\u001b[38;5;124;43mweek\u001b[39;49m\u001b[38;5;124;43m'\u001b[39;49m\u001b[43m,\u001b[49m\n\u001b[1;32m      3\u001b[0m \u001b[43m          \u001b[49m\u001b[43mseasonality\u001b[49m\u001b[38;5;241;43m=\u001b[39;49m\u001b[38;5;241;43m52\u001b[39;49m\u001b[43m,\u001b[49m\n\u001b[1;32m      4\u001b[0m \u001b[43m          \u001b[49m\u001b[43mseed\u001b[49m\u001b[38;5;241;43m=\u001b[39;49m\u001b[38;5;241;43m2020\u001b[39;49m\u001b[43m,\u001b[49m\n\u001b[1;32m      5\u001b[0m \u001b[43m          \u001b[49m\u001b[43mestimator\u001b[49m\u001b[38;5;241;43m=\u001b[39;49m\u001b[38;5;124;43m'\u001b[39;49m\u001b[38;5;124;43mnumpyro-mcmc\u001b[39;49m\u001b[38;5;124;43m'\u001b[39;49m\u001b[43m,\u001b[49m\n\u001b[1;32m      6\u001b[0m \u001b[43m          \u001b[49m\u001b[43mnum_warmup\u001b[49m\u001b[38;5;241;43m=\u001b[39;49m\u001b[38;5;241;43m3000\u001b[39;49m\u001b[43m,\u001b[49m\n\u001b[1;32m      7\u001b[0m \u001b[43m          \u001b[49m\u001b[43mnum_sample\u001b[49m\u001b[38;5;241;43m=\u001b[39;49m\u001b[38;5;241;43m1000\u001b[39;49m\u001b[43m,\u001b[49m\n\u001b[1;32m      8\u001b[0m \u001b[43m          \u001b[49m\u001b[43mchains\u001b[49m\u001b[38;5;241;43m=\u001b[39;49m\u001b[38;5;241;43m4\u001b[39;49m\u001b[43m,\u001b[49m\n\u001b[1;32m      9\u001b[0m \u001b[43m)\u001b[49m\n\u001b[1;32m     10\u001b[0m ets\u001b[38;5;241m.\u001b[39mfit(train_df)\n",
      "File \u001b[0;32m~/edwinnglabs/orbit/orbit/models/ets.py:69\u001b[0m, in \u001b[0;36mETS\u001b[0;34m(seasonality, seasonality_sm_input, level_sm_input, estimator, **kwargs)\u001b[0m\n\u001b[1;32m     65\u001b[0m     ets_forecaster \u001b[38;5;241m=\u001b[39m FullBayesianForecaster(\n\u001b[1;32m     66\u001b[0m         model\u001b[38;5;241m=\u001b[39mets, estimator_type\u001b[38;5;241m=\u001b[39mStanEstimatorMCMC, \u001b[38;5;241m*\u001b[39m\u001b[38;5;241m*\u001b[39mkwargs\n\u001b[1;32m     67\u001b[0m     )\n\u001b[1;32m     68\u001b[0m \u001b[38;5;28;01melse\u001b[39;00m:\n\u001b[0;32m---> 69\u001b[0m     \u001b[38;5;28;01mraise\u001b[39;00m IllegalArgument(\n\u001b[1;32m     70\u001b[0m         \u001b[38;5;124m\"\u001b[39m\u001b[38;5;124mInvalid estimator. Must be one of \u001b[39m\u001b[38;5;132;01m{}\u001b[39;00m\u001b[38;5;124m\"\u001b[39m\u001b[38;5;241m.\u001b[39mformat(_supported_estimators)\n\u001b[1;32m     71\u001b[0m     )\n\u001b[1;32m     73\u001b[0m \u001b[38;5;28;01mreturn\u001b[39;00m ets_forecaster\n",
      "\u001b[0;31mIllegalArgument\u001b[0m: Invalid estimator. Must be one of ['stan-map', 'stan-mcmc']"
     ]
    }
   ],
   "source": [
    "ets = ETS(response_col='claims',\n",
    "          date_col='week',\n",
    "          seasonality=52,\n",
    "          seed=2020,\n",
    "          estimator='numpyro-mcmc',\n",
    "          num_warmup=3000,\n",
    "          num_sample=1000,\n",
    "          chains=4,\n",
    ")\n",
    "ets.fit(train_df);"
   ]
  },
  {
   "cell_type": "code",
   "execution_count": null,
   "metadata": {
    "ExecuteTime": {
     "end_time": "2021-07-13T22:36:44.267632Z",
     "start_time": "2021-07-13T22:35:30.147321Z"
    },
    "tags": []
   },
   "outputs": [],
   "source": [
    "predicted_df = ets.predict(df=df, decompose=True)\n",
    "predicted_df"
   ]
  },
  {
   "cell_type": "code",
   "execution_count": null,
   "metadata": {
    "ExecuteTime": {
     "end_time": "2021-07-13T22:36:45.893424Z",
     "start_time": "2021-07-13T22:36:45.159519Z"
    }
   },
   "outputs": [],
   "source": [
    "_ = plot_predicted_data(training_actual_df=train_df,\n",
    "                        predicted_df=predicted_df,\n",
    "                        date_col='week',\n",
    "                        actual_col='claims',\n",
    "                        test_actual_df=test_df)"
   ]
  },
  {
   "cell_type": "code",
   "execution_count": null,
   "metadata": {
    "ExecuteTime": {
     "end_time": "2021-07-13T22:36:46.738346Z",
     "start_time": "2021-07-13T22:36:45.896387Z"
    }
   },
   "outputs": [],
   "source": [
    "_ = plot_predicted_components(predicted_df=predicted_df, date_col='week')"
   ]
  },
  {
   "cell_type": "code",
   "execution_count": null,
   "metadata": {},
   "outputs": [],
   "source": [
    "numpyro_ps = ets.get_posterior_samples()"
   ]
  },
  {
   "cell_type": "code",
   "execution_count": null,
   "metadata": {
    "ExecuteTime": {
     "end_time": "2021-07-13T22:35:30.144133Z",
     "start_time": "2021-07-13T22:35:30.100924Z"
    }
   },
   "outputs": [],
   "source": [
    "ets = ETS(response_col='claims',\n",
    "          date_col='week',\n",
    "          seasonality=52,\n",
    "          seed=2020,\n",
    "          estimator='stan-mcmc',\n",
    "          num_warmup=3000,\n",
    "          num_sample=1000,\n",
    "          chains=4,\n",
    ")\n",
    "ets.fit(train_df);"
   ]
  },
  {
   "cell_type": "code",
   "execution_count": null,
   "metadata": {
    "ExecuteTime": {
     "end_time": "2021-07-13T22:36:44.267632Z",
     "start_time": "2021-07-13T22:35:30.147321Z"
    },
    "tags": []
   },
   "outputs": [],
   "source": [
    "predicted_df = ets.predict(df=df, decompose=True)\n",
    "predicted_df"
   ]
  },
  {
   "cell_type": "code",
   "execution_count": null,
   "metadata": {},
   "outputs": [],
   "source": [
    "stan_ps = ets.get_posterior_samples()"
   ]
  },
  {
   "cell_type": "code",
   "execution_count": null,
   "metadata": {},
   "outputs": [],
   "source": [
    "params_comparison_boxplot(\n",
    "        [numpyro_ps, stan_ps],\n",
    "        var_names=['lev_sm', 'obs_sigma', 'sea_sm'],\n",
    "        model_names=[\"numpyro\", \"stan\"],\n",
    "        box_width = .1, box_distance=0.1,\n",
    "        showfliers=True\n",
    ");"
   ]
  },
  {
   "cell_type": "markdown",
   "metadata": {},
   "source": [
    "## Comparing MAP Results"
   ]
  },
  {
   "cell_type": "code",
   "execution_count": null,
   "metadata": {},
   "outputs": [],
   "source": [
    "ets = ETS(response_col='claims',\n",
    "          date_col='week',\n",
    "          seasonality=52,\n",
    "          seed=2020,\n",
    "          estimator='numpyro-map',\n",
    "          num_iters=30000,\n",
    ")\n",
    "ets.fit(train_df);\n",
    "numpyro_posteriors = ets.get_point_posteriors()['map']"
   ]
  },
  {
   "cell_type": "code",
   "execution_count": null,
   "metadata": {},
   "outputs": [],
   "source": [
    "ets = ETS(response_col='claims',\n",
    "          date_col='week',\n",
    "          seasonality=52,\n",
    "          seed=2020,\n",
    "          estimator='stan-map',\n",
    "          num_iters=5000,\n",
    ")\n",
    "ets.fit(train_df);\n",
    "stan_posteriors = ets.get_point_posteriors()['map']"
   ]
  },
  {
   "cell_type": "code",
   "execution_count": null,
   "metadata": {},
   "outputs": [],
   "source": [
    "print(\"----NumPyro---\")\n",
    "for param in ['lev_sm', 'obs_sigma', 'sea_sm']:\n",
    "    print('{}: {:.5f}'.format(param, numpyro_posteriors[param].mean()))\n",
    "print(\"----PyStan---\")  \n",
    "for param in ['lev_sm', 'obs_sigma', 'sea_sm']:\n",
    "    print('{}: {:.5f}'.format(param, stan_posteriors[param].mean()))"
   ]
  }
 ],
 "metadata": {
  "kernelspec": {
   "display_name": "orbit38",
   "language": "python",
   "name": "orbit38"
  },
  "language_info": {
   "codemirror_mode": {
    "name": "ipython",
    "version": 3
   },
   "file_extension": ".py",
   "mimetype": "text/x-python",
   "name": "python",
   "nbconvert_exporter": "python",
   "pygments_lexer": "ipython3",
   "version": "3.8.12"
  },
  "toc": {
   "base_numbering": 1,
   "nav_menu": {},
   "number_sections": true,
   "sideBar": true,
   "skip_h1_title": true,
   "title_cell": "Table of Contents",
   "title_sidebar": "Contents",
   "toc_cell": false,
   "toc_position": {},
   "toc_section_display": true,
   "toc_window_display": true
  }
 },
 "nbformat": 4,
 "nbformat_minor": 4
}
